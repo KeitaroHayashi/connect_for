{
  "nbformat": 4,
  "nbformat_minor": 0,
  "metadata": {
    "colab": {
      "name": "Weather",
      "provenance": [],
      "authorship_tag": "ABX9TyNf1jMbgfoedf9rFfOJNPPa",
      "include_colab_link": true
    },
    "kernelspec": {
      "name": "python3",
      "display_name": "Python 3"
    },
    "language_info": {
      "name": "python"
    }
  },
  "cells": [
    {
      "cell_type": "markdown",
      "metadata": {
        "id": "view-in-github",
        "colab_type": "text"
      },
      "source": [
        "<a href=\"https://colab.research.google.com/github/KeitaroHayashi/connect_for/blob/master/Weather.ipynb\" target=\"_parent\"><img src=\"https://colab.research.google.com/assets/colab-badge.svg\" alt=\"Open In Colab\"/></a>"
      ]
    },
    {
      "cell_type": "code",
      "source": [
        "import urllib.request\n",
        "from bs4 import BeautifulSoup\n",
        "import pandas as pd\n",
        "\n",
        "url = \"https://www.data.jma.go.jp/fcd/yoho/typhoon/statistics/generation/generation.html\"\n",
        "html = urllib.request.urlopen(url)\n",
        "soup = BeautifulSoup(html, \"html.parser\")\n",
        "\n",
        "rows2018 = soup.find_all(\"table\")[0].findAll(\"tr\")\n",
        "table2017u = soup.find_all(\"table\")[1]\n",
        "\n",
        "labels = []\n",
        "values = []\n",
        "for row in rows2018:\n",
        "    for cell in row.findAll(['th']):\n",
        "        labels.append(cell.get_text())\n",
        "    for cell in row.findAll(['td']):\n",
        "        values.append(cell.get_text())\n",
        "\n",
        "labels.pop(-1)\n",
        "labels.pop(0)\n",
        "values.pop(0)\n",
        "\n",
        "values[3] = values[4] = values[11] = 0\n",
        "values.pop()\n",
        "\n",
        "df = pd.DataFrame(list(map(int,values)), index=labels)\n",
        "df.columns = ['発生数']\n",
        "df"
      ],
      "metadata": {
        "id": "IlO20rTAbPzZ"
      },
      "execution_count": null,
      "outputs": []
    },
    {
      "cell_type": "code",
      "source": [
        "%matplotlib inline\n",
        "import matplotlib.pyplot as plt\n",
        "\n",
        "plt.rcParams['font.family'] = 'IPAPGothic' #全体のフォントを設定\n",
        "\n",
        "plt.rcParams[\"figure.figsize\"] = [12, 10]\n",
        "plt.rcParams['font.size'] = 20 \n",
        "plt.rcParams['xtick.labelsize'] = 15\n",
        "plt.rcParams['ytick.labelsize'] = 15\n",
        "\n",
        "df.plot(kind='bar', y='発生数').set(xlabel='月', ylabel='発生数')\n",
        "plt.title('2018年')"
      ],
      "metadata": {
        "colab": {
          "base_uri": "https://localhost:8080/",
          "height": 226
        },
        "id": "yWJIFlE8Wvvk",
        "outputId": "93d4e9dd-0f5c-47f7-82a3-0396d1ea8783"
      },
      "execution_count": 19,
      "outputs": [
        {
          "output_type": "error",
          "ename": "NameError",
          "evalue": "ignored",
          "traceback": [
            "\u001b[0;31m---------------------------------------------------------------------------\u001b[0m",
            "\u001b[0;31mNameError\u001b[0m                                 Traceback (most recent call last)",
            "\u001b[0;32m<ipython-input-19-8e321655c875>\u001b[0m in \u001b[0;36m<module>\u001b[0;34m()\u001b[0m\n\u001b[1;32m      9\u001b[0m \u001b[0mplt\u001b[0m\u001b[0;34m.\u001b[0m\u001b[0mrcParams\u001b[0m\u001b[0;34m[\u001b[0m\u001b[0;34m'ytick.labelsize'\u001b[0m\u001b[0;34m]\u001b[0m \u001b[0;34m=\u001b[0m \u001b[0;36m15\u001b[0m\u001b[0;34m\u001b[0m\u001b[0;34m\u001b[0m\u001b[0m\n\u001b[1;32m     10\u001b[0m \u001b[0;34m\u001b[0m\u001b[0m\n\u001b[0;32m---> 11\u001b[0;31m \u001b[0mdf\u001b[0m\u001b[0;34m.\u001b[0m\u001b[0mplot\u001b[0m\u001b[0;34m(\u001b[0m\u001b[0mkind\u001b[0m\u001b[0;34m=\u001b[0m\u001b[0;34m'bar'\u001b[0m\u001b[0;34m,\u001b[0m \u001b[0my\u001b[0m\u001b[0;34m=\u001b[0m\u001b[0;34m'発生数'\u001b[0m\u001b[0;34m)\u001b[0m\u001b[0;34m.\u001b[0m\u001b[0mset\u001b[0m\u001b[0;34m(\u001b[0m\u001b[0mxlabel\u001b[0m\u001b[0;34m=\u001b[0m\u001b[0;34m'月'\u001b[0m\u001b[0;34m,\u001b[0m \u001b[0mylabel\u001b[0m\u001b[0;34m=\u001b[0m\u001b[0;34m'発生数'\u001b[0m\u001b[0;34m)\u001b[0m\u001b[0;34m\u001b[0m\u001b[0;34m\u001b[0m\u001b[0m\n\u001b[0m\u001b[1;32m     12\u001b[0m \u001b[0mplt\u001b[0m\u001b[0;34m.\u001b[0m\u001b[0mtitle\u001b[0m\u001b[0;34m(\u001b[0m\u001b[0;34m'2018年'\u001b[0m\u001b[0;34m)\u001b[0m\u001b[0;34m\u001b[0m\u001b[0;34m\u001b[0m\u001b[0m\n",
            "\u001b[0;31mNameError\u001b[0m: name 'df' is not defined"
          ]
        }
      ]
    },
    {
      "cell_type": "code",
      "source": [
        "table2017u_tr = table2017u.findAll(\"tr\")\n",
        "total = []\n",
        " \n",
        "for trs in table2017u_tr:\n",
        "        year_v = []\n",
        "        td_f = trs.find(['td'])\n",
        "        td_all = trs.findAll(['td'])\n",
        "        try:\n",
        "            text = td_f.get_text()\n",
        "            for td in td_all:\n",
        "                if td.get_text().strip() == '':\n",
        "                    year_v.append(0)\n",
        "                else:\n",
        "                    year_v.append(int(td.get_text()))\n",
        "                    \n",
        "            total.append(year_v)\n",
        "                   \n",
        "        except AttributeError:\n",
        "             pass\n",
        "\n",
        "index = []\n",
        "year_num = []\n",
        "for t in total:\n",
        "    index.append(t[0])\n",
        "    year_num.append(t[-1])\n",
        "\n",
        "index.reverse()\n",
        "index.append(2018)\n",
        "year_num.reverse()\n",
        "year_num.append(29)\n",
        "\n",
        "df2 = pd.DataFrame(year_num, index=index)\n",
        "df2.columns = ['発生数']\n",
        "\n",
        "df2.plot(kind='bar', y='発生数').set(xlabel='年', ylabel='発生数')\n",
        "plt.rcParams[\"figure.figsize\"] = [15, 20]\n",
        "plt.title('1951年から２０１８年')"
      ],
      "metadata": {
        "id": "o0zNWlOgWxl-"
      },
      "execution_count": null,
      "outputs": []
    },
    {
      "cell_type": "code",
      "source": [
        "# 今年の発生数は２９\n",
        "df２[df2.発生数 > 29]"
      ],
      "metadata": {
        "id": "ceEWqUQnW0ZA"
      },
      "execution_count": null,
      "outputs": []
    },
    {
      "cell_type": "code",
      "source": [
        "df2.mean()"
      ],
      "metadata": {
        "id": "oU-WFy8XW4Xh"
      },
      "execution_count": null,
      "outputs": []
    }
  ]
}